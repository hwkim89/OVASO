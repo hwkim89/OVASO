{
 "cells": [
  {
   "cell_type": "code",
   "execution_count": 1,
   "metadata": {},
   "outputs": [],
   "source": [
    "import torch\n",
    "import numpy as np\n",
    "import time\n",
    "import os\n",
    "import random\n",
    "import matplotlib.pyplot as plt\n",
    "\n",
    "from datasets.utils import get_dataloaders\n",
    "from models.model import get_model_ft, train_model, eval_model\n",
    "from models.utils import set_random_seed"
   ]
  },
  {
   "cell_type": "markdown",
   "metadata": {},
   "source": [
    "## Set parameters"
   ]
  },
  {
   "cell_type": "code",
   "execution_count": 2,
   "metadata": {},
   "outputs": [],
   "source": [
    "train_dir = './data/CXR/balanced/'\n",
    "val_dir = '/media/aiffel0042/SSD256/temp/AVIDNet/data/CXR/ori/test/'\n",
    "model_dir = 'trained_models/'\n",
    "out_dir = 'results'\n",
    "out_model_path = 'trained_models/avidnet.pt'"
   ]
  },
  {
   "cell_type": "code",
   "execution_count": 3,
   "metadata": {},
   "outputs": [],
   "source": [
    "batch_size = 16\n",
    "random_seed = 0"
   ]
  },
  {
   "cell_type": "code",
   "execution_count": 4,
   "metadata": {},
   "outputs": [],
   "source": [
    "set_random_seed(random_seed)\n",
    "device = torch.device(\"cuda:0\" if torch.cuda.is_available() else \"cpu\")"
   ]
  },
  {
   "cell_type": "markdown",
   "metadata": {},
   "source": [
    "## Get data loaders"
   ]
  },
  {
   "cell_type": "code",
   "execution_count": 5,
   "metadata": {},
   "outputs": [
    {
     "name": "stdout",
     "output_type": "stream",
     "text": [
      "Validation dataset size: 1551\n",
      "['covid-19', 'normal', 'pneumonia']\n",
      "######### Validation Dataset #########\n",
      "covid-19 size: 517\n",
      "normal size: 517\n",
      "pneumonia size: 517\n",
      "Validation dataset size: 300\n",
      "['covid-19', 'normal', 'pneumonia']\n",
      "######### Validation Dataset #########\n",
      "covid-19 size: 100\n",
      "normal size: 100\n",
      "pneumonia size: 100\n"
     ]
    }
   ],
   "source": [
    "tr_dataloaders = get_dataloaders(train_dir, batch_size)\n",
    "te_dataloaders = get_dataloaders(val_dir, batch_size)"
   ]
  },
  {
   "cell_type": "markdown",
   "metadata": {},
   "source": [
    "## Train the model"
   ]
  },
  {
   "cell_type": "code",
   "execution_count": 6,
   "metadata": {},
   "outputs": [],
   "source": [
    "avidnet, criterion, optimizer, lr_scheduler = get_model_ft(model_dir, device)"
   ]
  },
  {
   "cell_type": "code",
   "execution_count": null,
   "metadata": {},
   "outputs": [],
   "source": [
    "avidnet = train_model(avidnet, tr_dataloaders, criterion, optimizer, lr_scheduler, device, epochs=20)"
   ]
  },
  {
   "cell_type": "code",
   "execution_count": null,
   "metadata": {},
   "outputs": [],
   "source": [
    "torch.save(avidnet, f'{out_dir}/avidnet.pt')"
   ]
  },
  {
   "cell_type": "markdown",
   "metadata": {},
   "source": [
    "## Evaluate the model"
   ]
  },
  {
   "cell_type": "markdown",
   "metadata": {},
   "source": [
    "### Load the model"
   ]
  },
  {
   "cell_type": "code",
   "execution_count": null,
   "metadata": {},
   "outputs": [],
   "source": [
    "avidnet, criterion, optimizer, lr_scheduler = get_model_ft(model_dir, device)\n",
    "avidnet.load_state_dict(torch.load(out_model_path))"
   ]
  },
  {
   "cell_type": "markdown",
   "metadata": {},
   "source": [
    "### Evaluate the model"
   ]
  },
  {
   "cell_type": "code",
   "execution_count": null,
   "metadata": {
    "scrolled": true
   },
   "outputs": [],
   "source": [
    "preds_dict = eval_model(dataloaders=te_dataloaders,\n",
    "                        avidnet=avidnet,\n",
    "                        criterion=criterion,\n",
    "                        batch_size=batch_size,\n",
    "                        device=device,\n",
    "                        out_dir=out_dir)"
   ]
  }
 ],
 "metadata": {
  "kernelspec": {
   "display_name": "Python 3",
   "language": "python",
   "name": "python3"
  },
  "language_info": {
   "codemirror_mode": {
    "name": "ipython",
    "version": 3
   },
   "file_extension": ".py",
   "mimetype": "text/x-python",
   "name": "python",
   "nbconvert_exporter": "python",
   "pygments_lexer": "ipython3",
   "version": "3.7.9"
  }
 },
 "nbformat": 4,
 "nbformat_minor": 4
}
