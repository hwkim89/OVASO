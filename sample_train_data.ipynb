{
 "cells": [
  {
   "cell_type": "code",
   "execution_count": 20,
   "metadata": {},
   "outputs": [],
   "source": [
    "import glob\n",
    "import random\n",
    "import shutil\n",
    "from collections import defaultdict"
   ]
  },
  {
   "cell_type": "code",
   "execution_count": 14,
   "metadata": {},
   "outputs": [],
   "source": [
    "DATA_DIR = './data/CXR'\n",
    "ORI_DATA_DIR = f'{DATA_DIR}/ori'\n",
    "BAL_DATA_DIR = f'{DATA_DIR}/balanced'"
   ]
  },
  {
   "cell_type": "code",
   "execution_count": 23,
   "metadata": {},
   "outputs": [],
   "source": [
    "exts = ('png', 'jpg', 'jpeg', 'JPG')\n",
    "img_classes = ('pneumonia', 'normal')\n",
    "for img_class in img_classes:\n",
    "    img_paths = []\n",
    "    for ext in exts:\n",
    "            img_paths.extend(glob.glob(f'{ORI_DATA_DIR}/{img_class}/*.{ext}'))\n",
    "            \n",
    "    img_paths = random.sample(img_paths, 517)\n",
    "    for img_path in img_paths:\n",
    "        target_img_path = img_path.replace('/ori/', '/balanced/')\n",
    "        shutil.copyfile(img_path, target_img_path)"
   ]
  }
 ],
 "metadata": {
  "kernelspec": {
   "display_name": "Python 3",
   "language": "python",
   "name": "python3"
  },
  "language_info": {
   "codemirror_mode": {
    "name": "ipython",
    "version": 3
   },
   "file_extension": ".py",
   "mimetype": "text/x-python",
   "name": "python",
   "nbconvert_exporter": "python",
   "pygments_lexer": "ipython3",
   "version": "3.7.9"
  }
 },
 "nbformat": 4,
 "nbformat_minor": 4
}
